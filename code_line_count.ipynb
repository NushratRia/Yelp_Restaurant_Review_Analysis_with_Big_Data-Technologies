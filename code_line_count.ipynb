{
 "cells": [
  {
   "cell_type": "code",
   "execution_count": 17,
   "metadata": {},
   "outputs": [
    {
     "name": "stdout",
     "output_type": "stream",
     "text": [
      "Total lines of code in project_BD_final.ipynb: 867\n"
     ]
    }
   ],
   "source": [
    "import json\n",
    "\n",
    "def count_code_lines_in_ipynb(file_path):\n",
    "    try:\n",
    "        with open(file_path, 'r', encoding='utf-8') as f:\n",
    "            notebook_data = json.load(f)\n",
    "    \n",
    "        line_count = 0\n",
    "    \n",
    "        for cell in notebook_data['cells']:\n",
    "            if cell['cell_type'] == 'code':\n",
    "                line_count += len(cell['source'])\n",
    "        \n",
    "        return line_count\n",
    "    \n",
    "    except Exception as e:\n",
    "        print(f\"An error occurred: {e}\")\n",
    "        return None\n",
    "\n",
    "\n",
    "if __name__ == \"__main__\":\n",
    "    ipynb_file = 'project_BD_final.ipynb'\n",
    "    total_lines = count_code_lines_in_ipynb(ipynb_file)\n",
    "    if total_lines is not None:\n",
    "        print(f\"Total lines of code in {ipynb_file}: {total_lines}\")"
   ]
  },
  {
   "cell_type": "code",
   "execution_count": 18,
   "metadata": {},
   "outputs": [
    {
     "name": "stdout",
     "output_type": "stream",
     "text": [
      "Total lines of code in Untitled0 (1).ipynb: 142\n"
     ]
    }
   ],
   "source": [
    "import json\n",
    "\n",
    "def count_code_lines_in_ipynb(file_path):\n",
    "    try:\n",
    "        with open(file_path, 'r', encoding='utf-8') as f:\n",
    "            notebook_data = json.load(f)\n",
    "    \n",
    "        line_count = 0\n",
    "    \n",
    "        for cell in notebook_data['cells']:\n",
    "            if cell['cell_type'] == 'code':\n",
    "                line_count += len(cell['source'])\n",
    "        \n",
    "        return line_count\n",
    "    \n",
    "    except Exception as e:\n",
    "        print(f\"An error occurred: {e}\")\n",
    "        return None\n",
    "\n",
    "\n",
    "if __name__ == \"__main__\":\n",
    "    ipynb_file = 'preprocessing.ipynb'\n",
    "    total_lines = count_code_lines_in_ipynb(ipynb_file)\n",
    "    if total_lines is not None:\n",
    "        print(f\"Total lines of code in {ipynb_file}: {total_lines}\")"
   ]
  },
  {
   "cell_type": "code",
   "execution_count": 16,
   "metadata": {},
   "outputs": [
    {
     "name": "stdout",
     "output_type": "stream",
     "text": [
      "Total lines of code in kafka_.ipynb: 44\n"
     ]
    }
   ],
   "source": [
    "import json\n",
    "\n",
    "def count_code_lines_in_ipynb(file_path):\n",
    "    try:\n",
    "        with open(file_path, 'r', encoding='utf-8') as f:\n",
    "            notebook_data = json.load(f)\n",
    "    \n",
    "        line_count = 0\n",
    "    \n",
    "        for cell in notebook_data['cells']:\n",
    "            if cell['cell_type'] == 'code':\n",
    "                line_count += len(cell['source'])\n",
    "        \n",
    "        return line_count\n",
    "    \n",
    "    except Exception as e:\n",
    "        print(f\"An error occurred: {e}\")\n",
    "        return None\n",
    "\n",
    "\n",
    "if __name__ == \"__main__\":\n",
    "    ipynb_file = 'kafka_.ipynb'\n",
    "    total_lines = count_code_lines_in_ipynb(ipynb_file)\n",
    "    if total_lines is not None:\n",
    "        print(f\"Total lines of code in {ipynb_file}: {total_lines}\")"
   ]
  },
  {
   "cell_type": "code",
   "execution_count": 19,
   "metadata": {},
   "outputs": [
    {
     "name": "stdout",
     "output_type": "stream",
     "text": [
      "project_BD_final.ipynb: 867 lines of code\n",
      "Untitled0 (1).ipynb: 142 lines of code\n",
      "kafka_.ipynb: 44 lines of code\n",
      "Total code lines across all notebooks: 1053\n"
     ]
    }
   ],
   "source": [
    "import json\n",
    "\n",
    "def count_code_lines(notebook_file):\n",
    "    \"\"\"Count the number of code lines in a Jupyter notebook.\"\"\"\n",
    "    with open(notebook_file, 'r', encoding='utf-8') as f:\n",
    "        notebook = json.load(f)\n",
    "    \n",
    "    code_lines = 0\n",
    "    for cell in notebook['cells']:\n",
    "        if cell['cell_type'] == 'code':  # Only count code cells\n",
    "            code_lines += len(cell['source'])  # Count number of lines in the source\n",
    "    \n",
    "    return code_lines\n",
    "\n",
    "# List of your 3 notebook files\n",
    "notebook_files = ['project_BD_final.ipynb', 'preprocessing.ipynb', 'kafka_.ipynb']\n",
    "\n",
    "total_code_lines = 0\n",
    "for notebook_file in notebook_files:\n",
    "    lines = count_code_lines(notebook_file)\n",
    "    print(f\"{notebook_file}: {lines} lines of code\")\n",
    "    total_code_lines += lines\n",
    "\n",
    "print(f\"Total code lines across all notebooks: {total_code_lines}\")\n"
   ]
  },
  {
   "cell_type": "code",
   "execution_count": 15,
   "metadata": {},
   "outputs": [
    {
     "name": "stdout",
     "output_type": "stream",
     "text": [
      "Conversion complete!\n"
     ]
    }
   ],
   "source": [
    "import nbformat\n",
    "\n",
    "notebook_path = 'project_BD_final.ipynb' \n",
    "with open(notebook_path, 'r', encoding='utf-8') as f:\n",
    "    nb = nbformat.read(f, as_version=4)\n",
    "\n",
    "with open('final_code.txt', 'w', encoding='utf-8') as text_file: \n",
    "    for cell in nb.cells:\n",
    "        if cell.cell_type == 'markdown':\n",
    "            text_file.write(f\"{cell.source}\\n\\n\")\n",
    "        elif cell.cell_type == 'code':\n",
    "            text_file.write(f\"## Code Cell\\n{cell.source}\\n\\n\")\n",
    "\n",
    "print(\"Conversion complete!\")"
   ]
  },
  {
   "cell_type": "code",
   "execution_count": null,
   "metadata": {},
   "outputs": [],
   "source": []
  }
 ],
 "metadata": {
  "kernelspec": {
   "display_name": "venv",
   "language": "python",
   "name": "python3"
  },
  "language_info": {
   "codemirror_mode": {
    "name": "ipython",
    "version": 3
   },
   "file_extension": ".py",
   "mimetype": "text/x-python",
   "name": "python",
   "nbconvert_exporter": "python",
   "pygments_lexer": "ipython3",
   "version": "3.12.4"
  }
 },
 "nbformat": 4,
 "nbformat_minor": 2
}
